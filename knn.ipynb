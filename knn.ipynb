{
 "cells": [
  {
   "cell_type": "code",
   "execution_count": 4,
   "metadata": {},
   "outputs": [
    {
     "name": "stdout",
     "output_type": "stream",
     "text": [
      "1 neighbor[s]: 40 correct out of 75\n",
      "3 neighbor[s]: 44 correct out of 75\n",
      "5 neighbor[s]: 41 correct out of 75\n",
      "7 neighbor[s]: 35 correct out of 75\n"
     ]
    }
   ],
   "source": [
    "from collections import Counter\n",
    "from linear_algebra import distance\n",
    "from statistics import mean\n",
    "import math, random\n",
    "import matplotlib.pyplot as plt\n",
    "import data\n",
    "\n",
    "def majority_vote(labels):\n",
    "    \"\"\"assumes that labels are ordered from nearest to farthest\"\"\"\n",
    "    vote_counts = Counter(labels)\n",
    "    winner, winner_count = vote_counts.most_common(1)[0]\n",
    "    num_winners = len([count\n",
    "                       for count in vote_counts.values()\n",
    "                       if count == winner_count])\n",
    "\n",
    "    if num_winners == 1:\n",
    "        return winner                     # unique winner, so return it\n",
    "    else:\n",
    "        return majority_vote(labels[:-1]) # try again without the farthest\n",
    "\n",
    "\n",
    "def knn_classify(k, labeled_points, new_point):\n",
    "    \"\"\"each labeled point should be a pair (point, label)\"\"\"\n",
    "\n",
    "    # order the labeled points from nearest to farthest\n",
    "    by_distance = sorted(labeled_points,\n",
    "                         key=lambda point_label: distance(point_label[0], new_point))\n",
    "\n",
    "    # find the labels for the k closest\n",
    "    k_nearest_labels = [label for _, label in by_distance[:k]]\n",
    "\n",
    "    # and let them vote\n",
    "    return majority_vote(k_nearest_labels)\n",
    "\n",
    "\n",
    "def predict_preferred_language_by_city(k_values, cities):\n",
    "    \"\"\"\n",
    "    TODO\n",
    "    predicts a preferred programming language for each city using above knn_classify() and \n",
    "    counts if predicted language matches the actual language.\n",
    "    Finally, print number of correct for each k value using this:\n",
    "    print(k, \"neighbor[s]:\", num_correct, \"correct out of\", len(cities))\n",
    "    \"\"\"\n",
    "    \n",
    "    for k in k_values:\n",
    "        prediction=0\n",
    "        for city in cities:\n",
    "            predCities=cities.copy()\n",
    "            predCities.remove(city)\n",
    "            pred=knn_classify(k,predCities,city[0])\n",
    "            if(pred==city[1]): \n",
    "                prediction+=1\n",
    "        print(k, \"neighbor[s]:\", prediction, \"correct out of\", len(cities))\n",
    "        \n",
    "\n",
    "if __name__ == \"__main__\":\n",
    "    k_values = [1, 3, 5, 7]\n",
    "    # TODO\n",
    "    # Import cities from data.py and pass it into predict_preferred_language_by_city(x, y).\n",
    "    predict_preferred_language_by_city(k_values, data.cities)"
   ]
  },
  {
   "cell_type": "code",
   "execution_count": null,
   "metadata": {},
   "outputs": [],
   "source": []
  }
 ],
 "metadata": {
  "kernelspec": {
   "display_name": "Python 3",
   "language": "python",
   "name": "python3"
  },
  "language_info": {
   "codemirror_mode": {
    "name": "ipython",
    "version": 3
   },
   "file_extension": ".py",
   "mimetype": "text/x-python",
   "name": "python",
   "nbconvert_exporter": "python",
   "pygments_lexer": "ipython3",
   "version": "3.7.1"
  }
 },
 "nbformat": 4,
 "nbformat_minor": 2
}
